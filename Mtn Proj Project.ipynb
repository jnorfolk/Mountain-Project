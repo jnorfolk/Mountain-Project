{
 "cells": [
  {
   "cell_type": "code",
   "execution_count": 57,
   "id": "c6e78a14",
   "metadata": {},
   "outputs": [
    {
     "name": "stdout",
     "output_type": "stream",
     "text": [
      "['Trad' 'Sport' 'Sport, TR' 'Trad, Alpine' 'TR' 'Trad, TR' 'TR, Alpine'\n",
      " 'Trad, Aid' 'Trad, Sport, TR' 'Sport, Alpine' 'Boulder' 'Snow, Alpine'\n",
      " 'Trad, Sport' 'Trad, Sport, Aid' 'Aid, Boulder, Alpine' 'Ice, Snow'\n",
      " 'TR, Ice' nan]\n"
     ]
    },
    {
     "data": {
      "text/html": [
       "<div>\n",
       "<style scoped>\n",
       "    .dataframe tbody tr th:only-of-type {\n",
       "        vertical-align: middle;\n",
       "    }\n",
       "\n",
       "    .dataframe tbody tr th {\n",
       "        vertical-align: top;\n",
       "    }\n",
       "\n",
       "    .dataframe thead th {\n",
       "        text-align: right;\n",
       "    }\n",
       "</style>\n",
       "<table border=\"1\" class=\"dataframe\">\n",
       "  <thead>\n",
       "    <tr style=\"text-align: right;\">\n",
       "      <th></th>\n",
       "      <th>Date</th>\n",
       "      <th>Route</th>\n",
       "      <th>Rating</th>\n",
       "      <th>Notes</th>\n",
       "      <th>URL</th>\n",
       "      <th>Pitches</th>\n",
       "      <th>Location</th>\n",
       "      <th>Avg Stars</th>\n",
       "      <th>Your Stars</th>\n",
       "      <th>Style</th>\n",
       "      <th>Lead Style</th>\n",
       "      <th>Route Type</th>\n",
       "      <th>Your Rating</th>\n",
       "      <th>Length</th>\n",
       "      <th>Rating Code</th>\n",
       "    </tr>\n",
       "  </thead>\n",
       "  <tbody>\n",
       "    <tr>\n",
       "      <th>0</th>\n",
       "      <td>2022-12-30</td>\n",
       "      <td>Dazed and Confused</td>\n",
       "      <td>5.9</td>\n",
       "      <td>Tricky but not that bad! Only did P1 though</td>\n",
       "      <td>https://www.mountainproject.com/route/10572184...</td>\n",
       "      <td>1</td>\n",
       "      <td>California &gt; Joshua Tree National Park &gt; Wonde...</td>\n",
       "      <td>2.9</td>\n",
       "      <td>-1</td>\n",
       "      <td>Lead</td>\n",
       "      <td>Onsight</td>\n",
       "      <td>Trad</td>\n",
       "      <td>NaN</td>\n",
       "      <td>160.0</td>\n",
       "      <td>2400.0</td>\n",
       "    </tr>\n",
       "    <tr>\n",
       "      <th>1</th>\n",
       "      <td>2022-12-30</td>\n",
       "      <td>Mental Physics</td>\n",
       "      <td>5.7</td>\n",
       "      <td>NaN</td>\n",
       "      <td>https://www.mountainproject.com/route/10572179...</td>\n",
       "      <td>2</td>\n",
       "      <td>California &gt; Joshua Tree National Park &gt; Wonde...</td>\n",
       "      <td>3.4</td>\n",
       "      <td>-1</td>\n",
       "      <td>Follow</td>\n",
       "      <td>Follow</td>\n",
       "      <td>Trad</td>\n",
       "      <td>NaN</td>\n",
       "      <td>200.0</td>\n",
       "      <td>1800.0</td>\n",
       "    </tr>\n",
       "    <tr>\n",
       "      <th>2</th>\n",
       "      <td>2022-12-28</td>\n",
       "      <td>Up &amp; Over</td>\n",
       "      <td>5.3</td>\n",
       "      <td>NaN</td>\n",
       "      <td>https://www.mountainproject.com/route/11666383...</td>\n",
       "      <td>1</td>\n",
       "      <td>California &gt; Joshua Tree National Park &gt; India...</td>\n",
       "      <td>1.4</td>\n",
       "      <td>-1</td>\n",
       "      <td>Follow</td>\n",
       "      <td>Follow</td>\n",
       "      <td>Trad</td>\n",
       "      <td>NaN</td>\n",
       "      <td>60.0</td>\n",
       "      <td>1300.0</td>\n",
       "    </tr>\n",
       "    <tr>\n",
       "      <th>3</th>\n",
       "      <td>2022-12-28</td>\n",
       "      <td>Full Day Runner</td>\n",
       "      <td>5.8</td>\n",
       "      <td>NaN</td>\n",
       "      <td>https://www.mountainproject.com/route/11408014...</td>\n",
       "      <td>1</td>\n",
       "      <td>California &gt; Joshua Tree National Park &gt; India...</td>\n",
       "      <td>2.4</td>\n",
       "      <td>-1</td>\n",
       "      <td>Lead</td>\n",
       "      <td>Onsight</td>\n",
       "      <td>Trad</td>\n",
       "      <td>NaN</td>\n",
       "      <td>75.0</td>\n",
       "      <td>2100.0</td>\n",
       "    </tr>\n",
       "    <tr>\n",
       "      <th>4</th>\n",
       "      <td>2022-12-28</td>\n",
       "      <td>Amsterdam</td>\n",
       "      <td>5.9</td>\n",
       "      <td>NaN</td>\n",
       "      <td>https://www.mountainproject.com/route/10828159...</td>\n",
       "      <td>1</td>\n",
       "      <td>California &gt; Joshua Tree National Park &gt; India...</td>\n",
       "      <td>2.4</td>\n",
       "      <td>-1</td>\n",
       "      <td>Lead</td>\n",
       "      <td>Onsight</td>\n",
       "      <td>Sport</td>\n",
       "      <td>NaN</td>\n",
       "      <td>60.0</td>\n",
       "      <td>2400.0</td>\n",
       "    </tr>\n",
       "  </tbody>\n",
       "</table>\n",
       "</div>"
      ],
      "text/plain": [
       "         Date               Route Rating  \\\n",
       "0  2022-12-30  Dazed and Confused    5.9   \n",
       "1  2022-12-30      Mental Physics    5.7   \n",
       "2  2022-12-28           Up & Over    5.3   \n",
       "3  2022-12-28     Full Day Runner    5.8   \n",
       "4  2022-12-28           Amsterdam    5.9   \n",
       "\n",
       "                                         Notes  \\\n",
       "0  Tricky but not that bad! Only did P1 though   \n",
       "1                                          NaN   \n",
       "2                                          NaN   \n",
       "3                                          NaN   \n",
       "4                                          NaN   \n",
       "\n",
       "                                                 URL  Pitches  \\\n",
       "0  https://www.mountainproject.com/route/10572184...        1   \n",
       "1  https://www.mountainproject.com/route/10572179...        2   \n",
       "2  https://www.mountainproject.com/route/11666383...        1   \n",
       "3  https://www.mountainproject.com/route/11408014...        1   \n",
       "4  https://www.mountainproject.com/route/10828159...        1   \n",
       "\n",
       "                                            Location  Avg Stars  Your Stars  \\\n",
       "0  California > Joshua Tree National Park > Wonde...        2.9          -1   \n",
       "1  California > Joshua Tree National Park > Wonde...        3.4          -1   \n",
       "2  California > Joshua Tree National Park > India...        1.4          -1   \n",
       "3  California > Joshua Tree National Park > India...        2.4          -1   \n",
       "4  California > Joshua Tree National Park > India...        2.4          -1   \n",
       "\n",
       "    Style Lead Style Route Type  Your Rating  Length  Rating Code  \n",
       "0    Lead    Onsight       Trad          NaN   160.0       2400.0  \n",
       "1  Follow     Follow       Trad          NaN   200.0       1800.0  \n",
       "2  Follow     Follow       Trad          NaN    60.0       1300.0  \n",
       "3    Lead    Onsight       Trad          NaN    75.0       2100.0  \n",
       "4    Lead    Onsight      Sport          NaN    60.0       2400.0  "
      ]
     },
     "execution_count": 57,
     "metadata": {},
     "output_type": "execute_result"
    }
   ],
   "source": [
    "import seaborn as sns \n",
    "import pandas as pd\n",
    "import numpy as np\n",
    "import matplotlib.pyplot as plt\n",
    "import re\n",
    "\n",
    "df = pd.read_csv('ticks.csv')\n",
    "df['Lead Style'] = df['Lead Style'].fillna('Follow')\n",
    "print(df['Route Type'].unique())\n",
    "df.head()"
   ]
  },
  {
   "cell_type": "code",
   "execution_count": 43,
   "id": "dd4fe7a6",
   "metadata": {
    "scrolled": true
   },
   "outputs": [
    {
     "data": {
      "image/png": "[encoded data removed]",
      "text/plain": [
       "<Figure size 1296x288 with 1 Axes>"
      ]
     },
     "metadata": {
      "needs_background": "light"
     },
     "output_type": "display_data"
    },
    {
     "data": {
      "text/plain": [
       "<Figure size 432x288 with 0 Axes>"
      ]
     },
     "metadata": {},
     "output_type": "display_data"
    }
   ],
   "source": [
    "order_list = ['5.2', '5.3', '5.4', '5.5', '5.6', '5.7', '5.7+', '5.8', '5.8+', '5.9', '5.9+', '5.10a', '5.10-', '5.10b', '5.10c', '5.10d', '5.11a']\n",
    "\n",
    "plt.figure(figsize=(18,4))\n",
    "sns.countplot(data=df, x=df.Rating, order=order_list, hue='Route Type')\n",
    "plt.xticks(rotation=60)\n",
    "plt.show()\n",
    "plt.clf()"
   ]
  },
  {
   "cell_type": "code",
   "execution_count": 16,
   "id": "f164bcb5",
   "metadata": {},
   "outputs": [
    {
     "name": "stdout",
     "output_type": "stream",
     "text": [
      " 2.6    39\n",
      " 2.4    38\n",
      " 2.8    35\n",
      " 2.9    33\n",
      " 3.0    32\n",
      " 2.5    31\n",
      " 3.1    30\n",
      " 2.3    26\n",
      " 2.7    26\n",
      " 3.6    22\n",
      " 3.5    22\n",
      " 3.2    22\n",
      " 3.4    21\n",
      " 2.1    16\n",
      " 3.3    15\n",
      " 2.2    15\n",
      " 1.9    10\n",
      " 2.0     8\n",
      " 3.8     7\n",
      " 1.8     5\n",
      " 3.7     5\n",
      " 3.9     4\n",
      " 1.7     3\n",
      " 4.0     2\n",
      " 1.6     2\n",
      " 1.3     2\n",
      " 1.5     2\n",
      " 1.4     2\n",
      " 1.1     1\n",
      "-1.0     1\n",
      "Name: Avg Stars, dtype: int64\n"
     ]
    },
    {
     "data": {
      "image/png": "[encoded data removed]",
      "text/plain": [
       "<Figure size 432x288 with 1 Axes>"
      ]
     },
     "metadata": {
      "needs_background": "light"
     },
     "output_type": "display_data"
    }
   ],
   "source": [
    "print(df['Avg Stars'].value_counts())\n",
    "sns.histplot(df['Avg Stars'][df['Avg Stars'] > 0])\n",
    "plt.show()\n",
    "plt.clf()  "
   ]
  },
  {
   "cell_type": "code",
   "execution_count": 17,
   "id": "0b6f6f23",
   "metadata": {},
   "outputs": [
    {
     "data": {
      "image/png": "[encoded data removed]",
      "text/plain": [
       "<Figure size 432x288 with 1 Axes>"
      ]
     },
     "metadata": {
      "needs_background": "light"
     },
     "output_type": "display_data"
    },
    {
     "data": {
      "text/plain": [
       "<Figure size 432x288 with 0 Axes>"
      ]
     },
     "metadata": {},
     "output_type": "display_data"
    }
   ],
   "source": [
    "sns.histplot(df['Lead Style'])\n",
    "plt.show()\n",
    "plt.clf()"
   ]
  },
  {
   "cell_type": "code",
   "execution_count": 19,
   "id": "c6520391",
   "metadata": {},
   "outputs": [
    {
     "data": {
      "image/png": "[encoded data removed]",
      "text/plain": [
       "<Figure size 432x288 with 1 Axes>"
      ]
     },
     "metadata": {
      "needs_background": "light"
     },
     "output_type": "display_data"
    },
    {
     "data": {
      "text/plain": [
       "<Figure size 432x288 with 0 Axes>"
      ]
     },
     "metadata": {},
     "output_type": "display_data"
    }
   ],
   "source": [
    "sns.histplot(df['Pitches'], bins=20)\n",
    "plt.show()\n",
    "plt.clf()"
   ]
  }
 ],
 "metadata": {
  "kernelspec": {
   "display_name": "Python 3 (ipykernel)",
   "language": "python",
   "name": "python3"
  },
  "language_info": {
   "codemirror_mode": {
    "name": "ipython",
    "version": 3
   },
   "file_extension": ".py",
   "mimetype": "text/x-python",
   "name": "python",
   "nbconvert_exporter": "python",
   "pygments_lexer": "ipython3",
   "version": "3.9.12"
  }
 },
 "nbformat": 4,
 "nbformat_minor": 5
}
